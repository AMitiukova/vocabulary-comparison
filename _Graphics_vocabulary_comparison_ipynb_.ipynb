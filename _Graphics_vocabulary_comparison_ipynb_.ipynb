{
  "cells": [
    {
      "cell_type": "markdown",
      "metadata": {
        "id": "Q84dOLLeJkSo"
      },
      "source": [
        "# Hands-On-Session: Comparing subject vocabularies"
      ]
    },
    {
      "cell_type": "markdown",
      "metadata": {
        "id": "rLnPhwwDJkSs"
      },
      "source": [
        "### Importing relevant modules and prepared vocabularies"
      ]
    },
    {
      "cell_type": "code",
      "execution_count": 1,
      "metadata": {
        "colab": {
          "base_uri": "https://localhost:8080/"
        },
        "id": "6uVxlK35ifkT",
        "outputId": "36d74019-4b86-4725-e45b-e23344a1ed44"
      },
      "outputs": [
        {
          "output_type": "stream",
          "name": "stdout",
          "text": [
            "Collecting polyleven\n",
            "  Downloading polyleven-0.8-cp310-cp310-manylinux_2_5_x86_64.manylinux1_x86_64.manylinux_2_17_x86_64.manylinux2014_x86_64.whl (19 kB)\n",
            "Installing collected packages: polyleven\n",
            "Successfully installed polyleven-0.8\n"
          ]
        }
      ],
      "source": [
        "%matplotlib inline\n",
        "import csv\n",
        "import json\n",
        "import nltk\n",
        "from tabulate import tabulate\n",
        "from collections import Counter, defaultdict\n",
        "import string\n",
        "import numpy as np\n",
        "import matplotlib as mpl\n",
        "import matplotlib.pyplot as plt\n",
        "import re\n",
        "!pip install polyleven\n",
        "from polyleven import levenshtein"
      ]
    },
    {
      "cell_type": "code",
      "execution_count": 2,
      "metadata": {
        "colab": {
          "base_uri": "https://localhost:8080/"
        },
        "id": "BeW1HiTCfeFw",
        "outputId": "abe4363e-bbce-4600-d671-fe1245e46a66"
      },
      "outputs": [
        {
          "output_type": "stream",
          "name": "stdout",
          "text": [
            "Cloning into 'vocabulary-comparison-graphics'...\n",
            "remote: Enumerating objects: 243, done.\u001b[K\n",
            "remote: Counting objects: 100% (243/243), done.\u001b[K\n",
            "remote: Compressing objects: 100% (166/166), done.\u001b[K\n",
            "remote: Total 243 (delta 67), reused 230 (delta 59), pack-reused 0\u001b[K\n",
            "Receiving objects: 100% (243/243), 5.44 MiB | 4.38 MiB/s, done.\n",
            "Resolving deltas: 100% (67/67), done.\n"
          ]
        }
      ],
      "source": [
        "!git clone https://github.com/AMitiukova/vocabulary-comparison-graphics.git"
      ]
    },
    {
      "cell_type": "code",
      "execution_count": 4,
      "metadata": {
        "colab": {
          "base_uri": "https://localhost:8080/"
        },
        "id": "v6vtYPnAJkSt",
        "outputId": "4b178c16-94f7-4762-a612-f0a854a4d27a"
      },
      "outputs": [
        {
          "output_type": "stream",
          "name": "stdout",
          "text": [
            "/content/vocabulary-comparison-graphics/Data\n"
          ]
        }
      ],
      "source": [
        "%cd /content/vocabulary-comparison-graphics/Data\n",
        "with open(\"getty_aat.json\", encoding = \"utf-8\") as datei:\n",
        "    getty_aat = json.load(datei)\n",
        "with open(\"rbmscv.json\", encoding = \"utf-8\") as datei:\n",
        "    rbmscv = json.load(datei)\n",
        "with open(\"tgm2.json\", encoding = \"utf-8\") as datei:\n",
        "    tgm2 = json.load(datei)\n",
        "with open(\"le.json\", encoding = \"utf-8\") as datei:\n",
        "    le = json.load(datei)"
      ]
    },
    {
      "cell_type": "code",
      "execution_count": 5,
      "metadata": {
        "colab": {
          "base_uri": "https://localhost:8080/"
        },
        "id": "-XtiNqFlkr84",
        "outputId": "4fe10c75-9530-4997-d62b-4c6d2bcecbda"
      },
      "outputs": [
        {
          "output_type": "stream",
          "name": "stdout",
          "text": [
            "/content/vocabulary-comparison-graphics/Functions\n"
          ]
        }
      ],
      "source": [
        "%cd /content/vocabulary-comparison-graphics/Functions\n",
        "import vc"
      ]
    },
    {
      "cell_type": "markdown",
      "metadata": {
        "id": "QLUBUxg3JkS0"
      },
      "source": [
        "### Choosing a set of vocabularies for comparison"
      ]
    },
    {
      "cell_type": "markdown",
      "metadata": {
        "id": "CcPceg0hJkS2"
      },
      "source": [
        "For each vocabulary you want to add to the comparison, add a tuple containing (1) the code of the desired vocabulary (e.g. *dha_tax*) and (2) the name you want to be displayed for the vocabulary (e.g. _\"DHA Taxonomy\"_) to the _vocabs_-list below:"
      ]
    },
    {
      "cell_type": "code",
      "execution_count": 6,
      "metadata": {
        "id": "CHi30KQDJkS3"
      },
      "outputs": [],
      "source": [
        "#Tipp: You can also temporarily remove irrelevant vocabularies by commenting them out.\n",
        "\n",
        "vocabs = [\n",
        "            (getty_aat, \"Getty AAT\"),\n",
        "            (rbmscv, \"RBMS\"),\n",
        "            (tgm2, \"TGM\"),\n",
        "            (le, \"Landscape engravings ontology\")\n",
        "            ]"
      ]
    },
    {
      "cell_type": "markdown",
      "metadata": {
        "id": "r9sDAuwJJkS4"
      },
      "source": [
        "### Taking a first look at the prepared vocabularies\n",
        "\n",
        "The function *show(vocab)* provides an alphabetically ordered list of all keywords of a certain vocabulary (e.g. _dc_ for DARIAH Campus):"
      ]
    },
    {
      "cell_type": "code",
      "execution_count": null,
      "metadata": {
        "id": "NR1JjpY_JkS4"
      },
      "outputs": [],
      "source": [
        "vc.show(rbmscv)"
      ]
    },
    {
      "cell_type": "markdown",
      "metadata": {
        "id": "fTH8S6ITJkS5"
      },
      "source": [
        "The function *show_length(vocab)* provides information on the number of keywords of a single vocabulary (e.g. *dc* for DARIAH Campus), while the function *length_overview(vocabs)* returns information on all"
      ]
    },
    {
      "cell_type": "code",
      "execution_count": 9,
      "metadata": {
        "colab": {
          "base_uri": "https://localhost:8080/"
        },
        "id": "i2RDKPHUJkS6",
        "outputId": "b66e91de-156a-4297-a56f-32a209d00ec9"
      },
      "outputs": [
        {
          "output_type": "stream",
          "name": "stdout",
          "text": [
            "1484\n"
          ]
        }
      ],
      "source": [
        "vc.show_length(rbmscv)"
      ]
    },
    {
      "cell_type": "code",
      "execution_count": 10,
      "metadata": {
        "colab": {
          "base_uri": "https://localhost:8080/"
        },
        "id": "lX3MEBYv5xlB",
        "outputId": "0beb2e9b-8b48-4b4f-cafb-05a106f95e29"
      },
      "outputs": [
        {
          "output_type": "stream",
          "name": "stdout",
          "text": [
            "Getty AAT: 51445 keywords\n",
            "RBMS: 1484 keywords\n",
            "TGM: 13203 keywords\n",
            "Landscape engravings ontology: 185 keywords\n"
          ]
        }
      ],
      "source": [
        "vc.length_overview(vocabs)"
      ]
    },
    {
      "cell_type": "markdown",
      "metadata": {
        "id": "Z7GPpVAYJkS6"
      },
      "source": [
        "### Looking at overlaps between vocabularies on a keyword level"
      ]
    },
    {
      "cell_type": "markdown",
      "metadata": {
        "id": "VsgYQL83U4ct"
      },
      "source": [
        "How many different keywords occur within the set of compared vocabularies? The function *keywords_distinct(vocabs)* returns the number of distinct keywords:"
      ]
    },
    {
      "cell_type": "code",
      "execution_count": 11,
      "metadata": {
        "id": "glLF3X44V4ei",
        "colab": {
          "base_uri": "https://localhost:8080/"
        },
        "outputId": "e804db5e-f174-45f3-a041-81e620c21270"
      },
      "outputs": [
        {
          "output_type": "execute_result",
          "data": {
            "text/plain": [
              "66169"
            ]
          },
          "metadata": {},
          "execution_count": 11
        }
      ],
      "source": [
        "vc.keywords_distinct(vocabs)"
      ]
    },
    {
      "cell_type": "markdown",
      "metadata": {
        "id": "Cl4kCd6XJkS6"
      },
      "source": [
        "How many keywords occur in multiple vocabularies? The function *overlaps_overview(vocabs)* gives an overview of exact overlaps between the chosen vocabularies:"
      ]
    },
    {
      "cell_type": "code",
      "execution_count": 12,
      "metadata": {
        "id": "ecu8xT-YJkS8",
        "colab": {
          "base_uri": "https://localhost:8080/"
        },
        "outputId": "c89b7d30-6743-442a-c587-24e5686ad027"
      },
      "outputs": [
        {
          "output_type": "stream",
          "name": "stdout",
          "text": [
            "No overlaps: 66021 keywords\n",
            "Overlaps between 2 vocabularies: 148 keywords\n"
          ]
        }
      ],
      "source": [
        "vc.overlaps_overview(vocabs)"
      ]
    },
    {
      "cell_type": "markdown",
      "metadata": {
        "id": "fT58yyStJkS9"
      },
      "source": [
        "Which keywords appear in multiple vocabularies? The function *keywords_multiple(vocabs, n)* lists all tags that appear in at least n vocabularies as well as the names of the respective vocabularies:"
      ]
    },
    {
      "cell_type": "code",
      "execution_count": 13,
      "metadata": {
        "id": "_zp-bAi3JkS9"
      },
      "outputs": [],
      "source": [
        "vc.keywords_multiple(vocabs, 3)"
      ]
    },
    {
      "cell_type": "markdown",
      "metadata": {
        "id": "Ye8nGvNeJkS9"
      },
      "source": [
        "Which keywords are unique, i.e. only appear in one vocabulary? The function *keywords_single(vocabs, n)* shows all keywords that exclusively occur in one vocabulary as well as the name of the respective vocabulary, with n being the limit of shown keywords per vocabulary:"
      ]
    },
    {
      "cell_type": "code",
      "execution_count": 14,
      "metadata": {
        "colab": {
          "base_uri": "https://localhost:8080/"
        },
        "id": "jsnDyONhEVVi",
        "outputId": "e4a8d84c-fa46-42d4-c185-b59e0843b45f"
      },
      "outputs": [
        {
          "output_type": "stream",
          "name": "stdout",
          "text": [
            "female (Getty AAT)\n",
            "aṣṭāṅga (Getty AAT)\n",
            "photographic retouchers (Getty AAT)\n",
            "reparative description (Getty AAT)\n",
            "ruling pens (Getty AAT)\n",
            "3 to em spaces (RBMS)\n",
            "5 to em spaces (RBMS)\n",
            "Abaca fiber papers (RBMS)\n",
            "Ableist works (RBMS)\n",
            "Abridgements (RBMS)\n",
            "3-D photographs (TGM)\n",
            "3-in-1 pictures (TGM)\n",
            "3-legged racing (TGM)\n",
            "4-H clubs (TGM)\n",
            "70s (TGM)\n",
            "города (Landscape engravings ontology)\n",
            "objects of art (Landscape engravings ontology)\n",
            "произведения искусства (Landscape engravings ontology)\n",
            "parks and country seats (Landscape engravings ontology)\n",
            "парки и усадьбы (Landscape engravings ontology)\n"
          ]
        }
      ],
      "source": [
        "vc.keywords_single(vocabs, 5)"
      ]
    },
    {
      "cell_type": "code",
      "source": [],
      "metadata": {
        "id": "tRFy_wiC7Ka9"
      },
      "execution_count": null,
      "outputs": []
    },
    {
      "cell_type": "markdown",
      "metadata": {
        "id": "USQTag-uJkS9"
      },
      "source": [
        "What about \"gouache\", \"georeferenced data\", \"text technology\", \"architecture\" or ... ? To find out more about the use of specific keywords, the function *search(vocabs, \"word\")* can be used to get information on the (non-)occurence of a keyword within the compared vocabularies:"
      ]
    },
    {
      "cell_type": "code",
      "execution_count": null,
      "metadata": {
        "id": "GSH6GmxgJkS9"
      },
      "outputs": [],
      "source": [
        "vc.search(vocabs, \"gouache\")"
      ]
    },
    {
      "cell_type": "markdown",
      "metadata": {
        "id": "eTM_0MJDJkS-"
      },
      "source": [
        "### Quantifying the similarity of vocabularies"
      ]
    },
    {
      "cell_type": "markdown",
      "metadata": {
        "id": "PhcN7_hzJkS-"
      },
      "source": [
        "The function *table_overlaps(vocabs)* generates a table that shows the number of absolute overlaps between each pair of vocabularies:"
      ]
    },
    {
      "cell_type": "code",
      "execution_count": 15,
      "metadata": {
        "id": "x_4zaMPsJkS-",
        "colab": {
          "base_uri": "https://localhost:8080/"
        },
        "outputId": "6605b50e-5321-44e6-961c-00368e5344d2"
      },
      "outputs": [
        {
          "output_type": "stream",
          "name": "stdout",
          "text": [
            "Vocabulary                       Getty AAT    RBMS    TGM    Landscape engravings ontology\n",
            "-----------------------------  -----------  ------  -----  -------------------------------\n",
            "Getty AAT                            51445       0      0                               21\n",
            "RBMS                                     0    1484    127                                0\n",
            "TGM                                      0     127  13203                                0\n",
            "Landscape engravings ontology           21       0      0                              185\n"
          ]
        }
      ],
      "source": [
        "vc.table_overlaps(vocabs)"
      ]
    },
    {
      "cell_type": "markdown",
      "metadata": {
        "id": "5Bakl2XjJkTA"
      },
      "source": [
        "Additionally, as the compared vocabularies (usually) differ in length, it makes sense to (additionally) consider the percentual overlap of different vocabularies, as available via the function *table_relative(vocabs)*. In each row, it displays which percentage of a certain vocabulary is covered by each other vocabulary included in the comparison:"
      ]
    },
    {
      "cell_type": "code",
      "execution_count": 16,
      "metadata": {
        "colab": {
          "base_uri": "https://localhost:8080/"
        },
        "id": "edotUvnsJkTB",
        "outputId": "a0c4200b-ffed-44cf-b86a-402d146b68f5"
      },
      "outputs": [
        {
          "output_type": "stream",
          "name": "stdout",
          "text": [
            "Vocabulary                       Getty AAT    RBMS     TGM    Landscape engravings ontology\n",
            "-----------------------------  -----------  ------  ------  -------------------------------\n",
            "Getty AAT                           100       0       0                                0.04\n",
            "RBMS                                  0     100       8.56                             0\n",
            "TGM                                   0       0.96  100                                0\n",
            "Landscape engravings ontology        11.35    0       0                              100\n"
          ]
        }
      ],
      "source": [
        "vc.table_relative(vocabs)"
      ]
    },
    {
      "cell_type": "markdown",
      "metadata": {
        "id": "ptpjWeK_JkTB"
      },
      "source": [
        "To make these percentual overlaps more easily perceptible, the function *heatmap(vocabs)* displays them in form of a heat map:"
      ]
    },
    {
      "cell_type": "code",
      "execution_count": 17,
      "metadata": {
        "colab": {
          "base_uri": "https://localhost:8080/",
          "height": 807
        },
        "id": "EpjGFKJ8JkTB",
        "outputId": "a35a49c4-c841-4a03-acfb-786f978ed398"
      },
      "outputs": [
        {
          "output_type": "display_data",
          "data": {
            "text/plain": [
              "<Figure size 1000x800 with 2 Axes>"
            ],
            "image/png": "[encoded data removed]"
          },
          "metadata": {}
        }
      ],
      "source": [
        "vc.heatmap(vocabs)"
      ]
    },
    {
      "cell_type": "markdown",
      "metadata": {
        "id": "fBzrKKFRJkTC"
      },
      "source": [
        "Which keywords constitute the overlap between specific vocabularies? The function _show_overlaps()_ takes a list of two or more vocabularies as its input (e.g. _[dc, howto]_ for DARIAH Campus and ACDH-CH HowTo) and returns the keywords that occur in **all** of the specified vocabularies:\n"
      ]
    },
    {
      "cell_type": "code",
      "execution_count": 19,
      "metadata": {
        "colab": {
          "base_uri": "https://localhost:8080/"
        },
        "id": "PMDrW8gDJkTC",
        "outputId": "f172401d-cb5d-4eda-e680-2af751b170e7"
      },
      "outputs": [
        {
          "output_type": "stream",
          "name": "stdout",
          "text": [
            "landmarks\n",
            "cities\n",
            "etching\n",
            "earthenware\n",
            "painting\n",
            "series\n",
            "aquarelle\n",
            "drawing\n",
            "man-made objects\n",
            "canvas\n",
            "engraving\n",
            "paper\n",
            "service\n",
            "other\n",
            "museums\n",
            "colorization\n",
            "porcelain\n",
            "gouache\n",
            "order\n",
            "place\n",
            "countries\n"
          ]
        }
      ],
      "source": [
        "vc.show_overlaps([le, getty_aat])"
      ]
    },
    {
      "cell_type": "markdown",
      "metadata": {
        "id": "DGmUxoJ0JkTC"
      },
      "source": [
        "### String matching vs. fuzzy matching"
      ]
    },
    {
      "cell_type": "markdown",
      "metadata": {
        "id": "7Mn3Wz6EJkTC"
      },
      "source": [
        "So far, all comparison were *based* on strict, i.e. exact matching. For certain functions (work-in-progress), the additional possibility of fuzzy matching is added, using polyleven's levensthein distance (https://github.com/fujimotos/polyleven). To explore this option, the following functions can currently be used:"
      ]
    },
    {
      "cell_type": "code",
      "execution_count": 20,
      "metadata": {
        "colab": {
          "base_uri": "https://localhost:8080/"
        },
        "id": "HNwCNaevJkTD",
        "outputId": "ec14777c-587f-4ff6-904a-3b16274eae29"
      },
      "outputs": [
        {
          "output_type": "stream",
          "name": "stdout",
          "text": [
            "No overlaps: 55566 keywords\n",
            "Overlaps between 2 vocabularies: 10126 keywords\n",
            "Overlaps between 3 vocabularies: 474 keywords\n",
            "Overlaps between 4 vocabularies: 3 keywords\n"
          ]
        }
      ],
      "source": [
        "vc.overlaps_overview_fuzzy(vocabs, 2) #overlaps on keyword level"
      ]
    },
    {
      "cell_type": "code",
      "execution_count": 21,
      "metadata": {
        "colab": {
          "base_uri": "https://localhost:8080/"
        },
        "id": "KpfUqUTdZjRz",
        "outputId": "15f8c2d1-0858-40d1-9900-fd69a54003ea"
      },
      "outputs": [
        {
          "output_type": "stream",
          "name": "stdout",
          "text": [
            "The keyword \"canvas\" is used in 2 different vocabularies, namely in:\n",
            "['Getty AAT', 'Landscape engravings ontology']\n",
            "Within the fuzzy matching, it is matched to the following variants:\n",
            "[('canvas', 'Getty AAT'), ('canvas', 'Landscape engravings ontology')]\n"
          ]
        }
      ],
      "source": [
        "vc.search_fuzzy(vocabs, \"canvas\", 2) #search for matches of specific keyword"
      ]
    },
    {
      "cell_type": "code",
      "execution_count": 22,
      "metadata": {
        "colab": {
          "base_uri": "https://localhost:8080/"
        },
        "id": "vrd-hHFbgFph",
        "outputId": "79c7c110-6f56-4f7f-c217-af0b8b61b5b7"
      },
      "outputs": [
        {
          "output_type": "stream",
          "name": "stdout",
          "text": [
            "[('landmarks', 'Getty AAT'), ('landmarks', 'Landscape engravings ontology')]\n",
            "[('достопримечательности', 'Landscape engravings ontology')]\n",
            "[('vitis', 'Getty AAT'), ('cozies', 'Getty AAT'), ('cotes', 'Getty AAT'), ('citrus', 'Getty AAT'), ('mites', 'Getty AAT'), ('citoles', 'Getty AAT'), ('cicims', 'Getty AAT'), ('copies', 'Getty AAT'), ('kites', 'Getty AAT'), ('tidies', 'Getty AAT'), ('cities', 'Getty AAT'), ('critics', 'Getty AAT'), ('deities', 'Getty AAT'), ('litres', 'Getty AAT'), ('titles', 'Getty AAT'), ('ritis', 'Getty AAT'), ('citizens', 'Getty AAT'), ('mitres', 'Getty AAT'), ('withies', 'Getty AAT'), ('unities', 'Getty AAT'), ('rites', 'Getty AAT'), ('sites', 'Getty AAT'), ('ties', 'Getty AAT'), ('Deities', 'TGM'), ('Duties', 'TGM'), ('Lilies', 'TGM'), ('Sites', 'TGM'), ('Tithes', 'TGM'), ('cities', 'Landscape engravings ontology')]\n",
            "[('города', 'Landscape engravings ontology')]\n",
            "[('objects of art', 'Landscape engravings ontology')]\n",
            "[('произведения искусства', 'Landscape engravings ontology')]\n",
            "[('parks and country seats', 'Landscape engravings ontology')]\n",
            "[('парки и усадьбы', 'Landscape engravings ontology')]\n",
            "[('patching', 'Getty AAT'), ('etching', 'Getty AAT'), ('teaching', 'Getty AAT'), ('etchings', 'Getty AAT'), ('hatching', 'Getty AAT'), ('echini', 'Getty AAT'), ('notching', 'Getty AAT'), ('perching', 'Getty AAT'), ('leaching', 'Getty AAT'), ('detaching', 'Getty AAT'), ('sketching', 'Getty AAT'), ('Belching', 'TGM'), ('Etchings', 'TGM'), ('Leeching', 'TGM'), ('Teaching', 'TGM'), ('Watching', 'TGM'), ('etching', 'Landscape engravings ontology')]\n",
            "[('офорт', 'Landscape engravings ontology')]\n",
            "[('подпись', 'Landscape engravings ontology')]\n",
            "[('блюдо', 'Landscape engravings ontology'), ('Блюдо', 'Landscape engravings ontology')]\n",
            "[('earthenware', 'Getty AAT'), ('Earthenware', 'TGM'), ('earthenware', 'Landscape engravings ontology')]\n",
            "[('фаянс', 'Landscape engravings ontology')]\n",
            "[('repainting', 'Getty AAT'), ('pantins', 'Getty AAT'), ('printing', 'Getty AAT'), ('painting', 'Getty AAT'), ('inpainting', 'Getty AAT'), ('baining', 'Getty AAT'), ('pasting', 'Getty AAT'), ('pointing', 'Getty AAT'), ('pinning', 'Getty AAT'), ('tinting', 'Getty AAT'), ('waiting', 'Getty AAT'), ('panting', 'Getty AAT'), ('fainting', 'Getty AAT'), ('planting', 'Getty AAT'), ('minting', 'Getty AAT'), ('pitting', 'Getty AAT'), ('paintings', 'Getty AAT'), ('Fainting', 'TGM'), ('Painting', 'TGM'), ('Paintings', 'TGM'), ('Printing', 'TGM'), ('Waiting', 'TGM'), ('painting', 'Landscape engravings ontology')]\n",
            "[('живопись', 'Landscape engravings ontology')]\n",
            "[('kermes', 'Getty AAT'), ('ferries', 'Getty AAT'), ('derbies', 'Getty AAT'), ('selfies', 'Getty AAT'), ('verges', 'Getty AAT'), ('bories', 'Getty AAT'), ('serinus', 'Getty AAT'), ('berries', 'Getty AAT'), ('serifs', 'Getty AAT'), ('strikes', 'Getty AAT'), ('severies', 'Getty AAT'), ('dories', 'Getty AAT'), ('juries', 'Getty AAT'), ('sertões', 'Getty AAT'), ('serials', 'Getty AAT'), ('erie', 'Getty AAT'), ('services', 'Getty AAT'), ('stripes', 'Getty AAT'), ('serge', 'Getty AAT'), ('servers', 'Getty AAT'), ('shrines', 'Getty AAT'), ('seri', 'Getty AAT'), ('stories', 'Getty AAT'), ('senses', 'Getty AAT'), ('series', 'Getty AAT'), ('sere', 'Getty AAT'), ('serer', 'Getty AAT'), ('scribes', 'Getty AAT'), ('heroes', 'Getty AAT'), ('saris', 'Getty AAT'), ('perils', 'Getty AAT'), ('strips', 'Getty AAT'), ('serfs', 'Getty AAT'), ('spies', 'Getty AAT'), ('keres', 'Getty AAT'), ('Cries', 'RBMS'), ('Series', 'RBMS'), ('Berries', 'TGM'), ('Cries', 'TGM'), ('Derbies', 'TGM'), ('Ferries', 'TGM'), ('Genies', 'TGM'), ('Heroes', 'TGM'), ('Juries', 'TGM'), ('series', 'Landscape engravings ontology')]\n",
            "[('комплект', 'Landscape engravings ontology')]\n",
            "[('preservation_locations', 'Landscape engravings ontology')]\n",
            "[('места хранения', 'Landscape engravings ontology')]\n",
            "[('название', 'Landscape engravings ontology')]\n",
            "[('адрес', 'Landscape engravings ontology')]\n",
            "[('aquarelle', 'Getty AAT'), ('aquarelles', 'Getty AAT'), ('aquarelle', 'Landscape engravings ontology')]\n",
            "[('акварель', 'Landscape engravings ontology')]\n",
            "[('тарелка', 'Landscape engravings ontology')]\n",
            "[('изображения', 'Landscape engravings ontology')]\n",
            "[('копирайт', 'Landscape engravings ontology')]\n",
            "[('dating', 'Getty AAT'), ('dreaming', 'Getty AAT'), ('drawing', 'Getty AAT'), ('grading', 'Getty AAT'), ('brazing', 'Getty AAT'), ('crazing', 'Getty AAT'), ('tawing', 'Getty AAT'), ('raping', 'Getty AAT'), ('drains', 'Getty AAT'), ('praying', 'Getty AAT'), ('racing', 'Getty AAT'), ('thawing', 'Getty AAT'), ('dragging', 'Getty AAT'), ('rowing', 'Getty AAT'), ('drafting', 'Getty AAT'), ('sawing', 'Getty AAT'), ('driving', 'Getty AAT'), ('tracing', 'Getty AAT'), ('drawings', 'Getty AAT'), ('erasing', 'Getty AAT'), ('framing', 'Getty AAT'), ('drying', 'Getty AAT'), ('awing', 'Getty AAT'), ('Crewing', 'TGM'), ('Drawing', 'TGM'), ('Drawings', 'TGM'), ('Grazing', 'TGM'), ('drawing', 'Landscape engravings ontology')]\n",
            "[('рисунок', 'Landscape engravings ontology')]\n",
            "[('counties of Britain', 'Landscape engravings ontology')]\n",
            "[('графства Великобритании', 'Landscape engravings ontology')]\n",
            "[('man-made objects', 'Getty AAT'), ('man-made objects', 'Landscape engravings ontology')]\n",
            "[('технологические объекты', 'Landscape engravings ontology')]\n",
            "[('versos', 'Getty AAT'), ('merlons', 'Getty AAT'), ('pensions', 'Getty AAT'), ('sermons', 'Getty AAT'), ('perrons', 'Getty AAT'), ('prisons', 'Getty AAT'), ('seasons', 'Getty AAT'), ('versions', 'Getty AAT'), ('pardons', 'Getty AAT'), ('pesos', 'Getty AAT'), ('personas', 'Getty AAT'), ('Sermons', 'RBMS'), ('Herons', 'TGM'), ('Seasons', 'TGM'), ('persons', 'Landscape engravings ontology')]\n",
            "[('персоналии', 'Landscape engravings ontology')]\n",
            "[('pink', 'Getty AAT'), ('flint', 'Getty AAT'), ('points', 'Getty AAT'), ('urine', 'Getty AAT'), ('spring', 'Getty AAT'), ('pain', 'Getty AAT'), ('paint', 'Getty AAT'), ('pins', 'Getty AAT'), ('pride', 'Getty AAT'), ('paring', 'Getty AAT'), ('front', 'Getty AAT'), ('tint', 'Getty AAT'), ('pints', 'Getty AAT'), ('purist', 'Getty AAT'), ('prang', 'Getty AAT'), ('suint', 'Getty AAT'), ('pine', 'Getty AAT'), ('porino', 'Getty AAT'), ('frit', 'Getty AAT'), ('prunts', 'Getty AAT'), ('rent', 'Getty AAT'), ('prints', 'Getty AAT'), ('Prints', 'TGM'), ('Spring', 'TGM'), ('print', 'Landscape engravings ontology')]\n",
            "[('гравюра', 'Landscape engravings ontology')]\n",
            "[('canoes', 'Getty AAT'), ('canes', 'Getty AAT'), ('canns', 'Getty AAT'), ('canals', 'Getty AAT'), ('angas', 'Getty AAT'), ('cants', 'Getty AAT'), ('canons', 'Getty AAT'), ('canchas', 'Getty AAT'), ('kangas', 'Getty AAT'), ('canis', 'Getty AAT'), ('sansas', 'Getty AAT'), ('cakras', 'Getty AAT'), ('congas', 'Getty AAT'), ('canvas', 'Getty AAT'), ('cans', 'Getty AAT'), ('mantas', 'Getty AAT'), ('ganas', 'Getty AAT'), ('tankas', 'Getty AAT'), ('caves', 'Getty AAT'), ('mancas', 'Getty AAT'), ('mangas', 'Getty AAT'), ('Pandas', 'TGM'), ('canvas', 'Landscape engravings ontology')]\n",
            "[('холст', 'Landscape engravings ontology')]\n",
            "[('надписи', 'Landscape engravings ontology')]\n",
            "[('materials facet', 'Getty AAT'), ('materials_facet', 'Landscape engravings ontology')]\n",
            "[('материалы', 'Landscape engravings ontology')]\n",
            "[('герб', 'Landscape engravings ontology'), ('Дерби', 'Landscape engravings ontology')]\n",
            "[('engraving', 'Getty AAT'), ('engravings', 'Getty AAT'), ('Engraving', 'TGM'), ('Engravings', 'TGM'), ('engraving', 'Landscape engravings ontology')]\n",
            "[('гравюра резцом', 'Landscape engravings ontology')]\n",
            "[('piper', 'Getty AAT'), ('pepper', 'Getty AAT'), ('papaver', 'Getty AAT'), ('acer', 'Getty AAT'), ('passer', 'Getty AAT'), ('papio', 'Getty AAT'), ('super', 'Getty AAT'), ('panes', 'Getty AAT'), ('amer', 'Getty AAT'), ('sape', 'Getty AAT'), ('apes', 'Getty AAT'), ('gapers', 'Getty AAT'), ('zaer', 'Getty AAT'), ('panel', 'Getty AAT'), ('pipes', 'Getty AAT'), ('capes', 'Getty AAT'), ('jasper', 'Getty AAT'), ('popes', 'Getty AAT'), ('paper', 'Getty AAT'), ('poker', 'Getty AAT'), ('pame', 'Getty AAT'), ('pare', 'Getty AAT'), ('tapers', 'Getty AAT'), ('paver', 'Getty AAT'), ('diaper', 'Getty AAT'), ('paxes', 'Getty AAT'), ('pale', 'Getty AAT'), ('pepel', 'Getty AAT'), ('pages', 'Getty AAT'), ('tape', 'Getty AAT'), ('papyri', 'Getty AAT'), ('tapes', 'Getty AAT'), ('pabir', 'Getty AAT'), ('upper', 'Getty AAT'), ('papers', 'Getty AAT'), ('power', 'Getty AAT'), ('water', 'Getty AAT'), ('pamir', 'Getty AAT'), ('papel', 'Getty AAT'), ('Paper', 'RBMS'), ('Tapes', 'RBMS'), ('Paper', 'TGM'), ('Papers', 'TGM'), ('Rapes', 'TGM'), ('Vapes', 'TGM'), ('Water', 'TGM'), ('paper', 'Landscape engravings ontology')]\n",
            "[('бумага', 'Landscape engravings ontology')]\n",
            "[('service', 'Getty AAT'), ('services', 'Getty AAT'), ('service', 'Landscape engravings ontology')]\n",
            "[('сервиз', 'Landscape engravings ontology')]\n",
            "[('processes and techniques', 'Getty AAT'), ('processes_and_techniques', 'Landscape engravings ontology')]\n",
            "[('техники', 'Landscape engravings ontology')]\n",
            "[('изобразительное искусство', 'Landscape engravings ontology')]\n",
            "[('посвящение', 'Landscape engravings ontology')]\n",
            "[('mothers', 'Getty AAT'), ('gather', 'Getty AAT'), ('ocher', 'Getty AAT'), ('order', 'Getty AAT'), ('outer', 'Getty AAT'), ('other', 'Getty AAT'), ('Ether', 'TGM'), ('Mothers', 'TGM'), ('other', 'Landscape engravings ontology'), ('order', 'Landscape engravings ontology')]\n",
            "[('прочие', 'Landscape engravings ontology')]\n",
            "[('Thames and London', 'Landscape engravings ontology')]\n",
            "[('Темза и Лондон', 'Landscape engravings ontology')]\n",
            "[('museums', 'Getty AAT'), ('muses', 'Getty AAT'), ('muskum', 'Getty AAT'), ('Museums', 'TGM'), ('museums', 'Landscape engravings ontology')]\n",
            "[('музеи', 'Landscape engravings ontology')]\n",
            "[('colorization', 'Getty AAT'), ('solarization', 'Getty AAT'), ('colonization', 'Getty AAT'), ('polarization', 'Getty AAT'), ('valorization', 'Getty AAT'), ('colorization', 'Landscape engravings ontology')]\n",
            "[('иллюминация', 'Landscape engravings ontology')]\n",
            "[('nature sites', 'Landscape engravings ontology')]\n",
            "[('природные объекты', 'Landscape engravings ontology')]\n",
            "[('porcelain', 'Getty AAT'), ('Porcelain', 'TGM'), ('porcelain', 'Landscape engravings ontology')]\n",
            "[('предмет из фарфора', 'Landscape engravings ontology')]\n",
            "[('series of prints', 'Landscape engravings ontology')]\n",
            "[('серии гравюр', 'Landscape engravings ontology')]\n",
            "[('architectural objects', 'Landscape engravings ontology')]\n",
            "[('архитектурные объекты', 'Landscape engravings ontology')]\n",
            "[('gouache', 'Getty AAT'), ('gouaches', 'Getty AAT'), ('guanche', 'Getty AAT'), ('Gouaches', 'TGM'), ('gouache', 'Landscape engravings ontology')]\n",
            "[('гуашь', 'Landscape engravings ontology')]\n",
            "[('дата_события', 'Landscape engravings ontology')]\n",
            "[('форма', 'Landscape engravings ontology')]\n",
            "[('длина', 'Landscape engravings ontology')]\n",
            "[('треугольная', 'Landscape engravings ontology')]\n",
            "[('ширина', 'Landscape engravings ontology')]\n",
            "[('овальная', 'Landscape engravings ontology')]\n",
            "[('dna', 'Getty AAT'), ('ding', 'Getty AAT'), ('beng', 'Getty AAT'), ('logs', 'Getty AAT'), ('egg', 'Getty AAT'), ('dung', 'Getty AAT'), ('lant', 'Getty AAT'), ('lang', 'Getty AAT'), ('legs', 'Getty AAT'), ('luna', 'Getty AAT'), ('kung', 'Getty AAT'), ('unga', 'Getty AAT'), ('ano', 'Getty AAT'), ('ink', 'Getty AAT'), ('tíng', 'Getty AAT'), ('rna', 'Getty AAT'), ('lux', 'Getty AAT'), ('liáng', 'Getty AAT'), ('lent', 'Getty AAT'), ('ly', 'Getty AAT'), ('loi', 'Getty AAT'), ('lzw', 'Getty AAT'), ('liang', 'Getty AAT'), ('end', 'Getty AAT'), ('fāng', 'Getty AAT'), ('fang', 'Getty AAT'), ('tnt', 'Getty AAT'), ('rag', 'Getty AAT'), ('flong', 'Getty AAT'), ('lur', 'Getty AAT'), ('lê', 'Getty AAT'), ('lungu', 'Getty AAT'), ('fog', 'Getty AAT'), ('áng', 'Getty AAT'), ('lynx', 'Getty AAT'), ('kong', 'Getty AAT'), ('ona', 'Getty AAT'), ('slag', 'Getty AAT'), ('log', 'Getty AAT'), ('lāné', 'Getty AAT'), ('lou', 'Getty AAT'), ('lei', 'Getty AAT'), ('lega', 'Getty AAT'), ('tang', 'Getty AAT'), ('xing', 'Getty AAT'), ('lugs', 'Getty AAT'), ('cong', 'Getty AAT'), ('song', 'Getty AAT'), ('lans', 'Getty AAT'), ('lango', 'Getty AAT'), ('lac', 'Getty AAT'), ('luo', 'Getty AAT'), ('ming', 'Getty AAT'), ('law', 'Getty AAT'), ('qing', 'Getty AAT'), ('fig', 'Getty AAT'), ('dong', 'Getty AAT'), ('jeng', 'Getty AAT'), ('kang', 'Getty AAT'), ('lak', 'Getty AAT'), ('langi', 'Getty AAT'), ('lao', 'Getty AAT'), ('laz', 'Getty AAT'), ('lengo', 'Getty AAT'), ('low', 'Getty AAT'), ('onge', 'Getty AAT'), ('yong', 'Getty AAT'), ('one', 'Getty AAT'), ('Fog', 'TGM'), ('Ink', 'TGM'), ('Slang', 'TGM'), ('lng', 'Landscape engravings ontology'), ('lat', 'Landscape engravings ontology')]\n",
            "[('круглая', 'Landscape engravings ontology')]\n",
            "[('инвентарный номер', 'Landscape engravings ontology')]\n",
            "[('gō', 'Getty AAT'), ('red', 'Getty AAT'), ('ge', 'Getty AAT'), ('age', 'Getty AAT'), ('gaô', 'Getty AAT'), ('gel', 'Getty AAT'), ('jet', 'Getty AAT'), ('edo', 'Getty AAT'), ('gamo', 'Getty AAT'), ('xe', 'Getty AAT'), ('afo', 'Getty AAT'), ('gato', 'Getty AAT'), ('gur', 'Getty AAT'), ('de', 'Getty AAT'), ('ano', 'Getty AAT'), ('gas', 'Getty AAT'), ('gesso', 'Getty AAT'), ('bei', 'Getty AAT'), ('ga', 'Getty AAT'), ('gu', 'Getty AAT'), ('gut', 'Getty AAT'), ('grey', 'Getty AAT'), ('geta', 'Getty AAT'), ('ijo', 'Getty AAT'), ('gems', 'Getty AAT'), ('dew', 'Getty AAT'), ('wei', 'Getty AAT'), ('gan', 'Getty AAT'), ('grebo', 'Getty AAT'), ('gbi', 'Getty AAT'), ('aro', 'Getty AAT'), ('abo', 'Getty AAT'), ('ghee', 'Getty AAT'), ('gui', 'Getty AAT'), ('igbo', 'Getty AAT'), ('we', 'Getty AAT'), ('grog', 'Getty AAT'), ('gogo', 'Getty AAT'), ('sho', 'Getty AAT'), ('guro', 'Getty AAT'), ('he', 'Getty AAT'), ('gun', 'Getty AAT'), ('oyo', 'Getty AAT'), ('zen', 'Getty AAT'), ('pepo', 'Getty AAT'), ('jen', 'Getty AAT'), ('yao', 'Getty AAT'), ('cáo', 'Getty AAT'), ('men', 'Getty AAT'), ('go', 'Getty AAT'), ('wee', 'Getty AAT'), ('se', 'Getty AAT'), ('mbo', 'Getty AAT'), ('nso', 'Getty AAT'), ('geji', 'Getty AAT'), ('gwa', 'Getty AAT'), ('owo', 'Getty AAT'), ('lei', 'Getty AAT'), ('ho', 'Getty AAT'), ('good', 'Getty AAT'), ('ndo', 'Getty AAT'), ('dei', 'Getty AAT'), ('so', 'Getty AAT'), ('tao', 'Getty AAT'), ('vezo', 'Getty AAT'), ('zea', 'Getty AAT'), ('tea', 'Getty AAT'), ('ofo', 'Getty AAT'), ('sex', 'Getty AAT'), ('neyo', 'Getty AAT'), ('luo', 'Getty AAT'), ('gum', 'Getty AAT'), ('oto', 'Getty AAT'), ('net', 'Getty AAT'), ('yew', 'Getty AAT'), ('seto', 'Getty AAT'), ('neon', 'Getty AAT'), ('teso', 'Getty AAT'), ('sko', 'Getty AAT'), ('garo', 'Getty AAT'), ('geez', 'Getty AAT'), ('gela', 'Getty AAT'), ('gheg', 'Getty AAT'), ('ibo', 'Getty AAT'), ('ido', 'Getty AAT'), ('ifo', 'Getty AAT'), ('jeh', 'Getty AAT'), ('ket', 'Getty AAT'), ('lao', 'Getty AAT'), ('lewo', 'Getty AAT'), ('mao', 'Getty AAT'), ('mel', 'Getty AAT'), ('ngeq', 'Getty AAT'), ('ngero', 'Getty AAT'), ('nyo', 'Getty AAT'), ('obo', 'Getty AAT'), ('sio', 'Getty AAT'), ('soo', 'Getty AAT'), ('teop', 'Getty AAT'), ('tho', 'Getty AAT'), ('ten', 'Getty AAT'), ('two', 'Getty AAT'), ('Dew', 'TGM'), ('Men', 'TGM'), ('Sex', 'TGM'), ('Tea', 'TGM'), ('geo', 'Landscape engravings ontology')]\n",
            "[('глубина', 'Landscape engravings ontology')]\n",
            "[('дата_рождения', 'Landscape engravings ontology')]\n",
            "[('каталожный номер', 'Landscape engravings ontology')]\n",
            "[('дата_перемещения', 'Landscape engravings ontology')]\n",
            "[('дата', 'Landscape engravings ontology')]\n",
            "[('дата_смерти', 'Landscape engravings ontology')]\n",
            "[('data', 'Getty AAT'), ('dan', 'Getty AAT'), ('day', 'Getty AAT'), ('gaô', 'Getty AAT'), ('lead', 'Getty AAT'), ('bats', 'Getty AAT'), ('jet', 'Getty AAT'), ('lant', 'Getty AAT'), ('lang', 'Getty AAT'), ('flats', 'Getty AAT'), ('east', 'Getty AAT'), ('play', 'Getty AAT'), ('gato', 'Getty AAT'), ('gas', 'Getty AAT'), ('fat', 'Getty AAT'), ('lava', 'Getty AAT'), ('alae', 'Getty AAT'), ('ram', 'Getty AAT'), ('flac', 'Getty AAT'), ('lama', 'Getty AAT'), ('lux', 'Getty AAT'), ('ga', 'Getty AAT'), ('ila', 'Getty AAT'), ('nap', 'Getty AAT'), ('peat', 'Getty AAT'), ('gut', 'Getty AAT'), ('art', 'Getty AAT'), ('lamu', 'Getty AAT'), ('lats', 'Getty AAT'), ('heat', 'Getty AAT'), ('lays', 'Getty AAT'), ('rats', 'Getty AAT'), ('lali', 'Getty AAT'), ('sab', 'Getty AAT'), ('bast', 'Getty AAT'), ('nar', 'Getty AAT'), ('meat', 'Getty AAT'), ('lent', 'Getty AAT'), ('ly', 'Getty AAT'), ('hot', 'Getty AAT'), ('ikat', 'Getty AAT'), ('plats', 'Getty AAT'), ('yap', 'Getty AAT'), ('bata', 'Getty AAT'), ('loi', 'Getty AAT'), ('san', 'Getty AAT'), ('gan', 'Getty AAT'), ('maté', 'Getty AAT'), ('lzw', 'Getty AAT'), ('lala', 'Getty AAT'), ('tnt', 'Getty AAT'), ('lake', 'Getty AAT'), ('rag', 'Getty AAT'), ('hay', 'Getty AAT'), ('loam', 'Getty AAT'), ('mam', 'Getty AAT'), ('lur', 'Getty AAT'), ('lê', 'Getty AAT'), ('mats', 'Getty AAT'), ('lace', 'Getty AAT'), ('may', 'Getty AAT'), ('lost', 'Getty AAT'), ('leaf', 'Getty AAT'), ('latin', 'Getty AAT'), ('han', 'Getty AAT'), ('hats', 'Getty AAT'), ('flat', 'Getty AAT'), ('pan', 'Getty AAT'), ('latā', 'Getty AAT'), ('flax', 'Getty AAT'), ('kal', 'Getty AAT'), ('ha', 'Getty AAT'), ('swat', 'Getty AAT'), ('yao', 'Getty AAT'), ('lamé', 'Getty AAT'), ('laths', 'Getty AAT'), ('plate', 'Getty AAT'), ('slag', 'Getty AAT'), ('log', 'Getty AAT'), ('lots', 'Getty AAT'), ('fate', 'Getty AAT'), ('hate', 'Getty AAT'), ('lou', 'Getty AAT'), ('tai', 'Getty AAT'), ('lei', 'Getty AAT'), ('lust', 'Getty AAT'), ('slate', 'Getty AAT'), ('jam', 'Getty AAT'), ('laka', 'Getty AAT'), ('matt', 'Getty AAT'), ('laity', 'Getty AAT'), ('rot', 'Getty AAT'), ('lath', 'Getty AAT'), ('liao', 'Getty AAT'), ('loan', 'Getty AAT'), ('lasts', 'Getty AAT'), ('tao', 'Getty AAT'), ('sap', 'Getty AAT'), ('mau', 'Getty AAT'), ('left', 'Getty AAT'), ('yan', 'Getty AAT'), ('lans', 'Getty AAT'), ('tan', 'Getty AAT'), ('laws', 'Getty AAT'), ('lac', 'Getty AAT'), ('luo', 'Getty AAT'), ('clay', 'Getty AAT'), ('lawn', 'Getty AAT'), ('law', 'Getty AAT'), ('net', 'Getty AAT'), ('vai', 'Getty AAT'), ('raw', 'Getty AAT'), ('wan', 'Getty AAT'), ('saô', 'Getty AAT'), ('latex', 'Getty AAT'), ('plan', 'Getty AAT'), ('saz', 'Getty AAT'), ('wats', 'Getty AAT'), ('vats', 'Getty AAT'), ('salt', 'Getty AAT'), ('tar', 'Getty AAT'), ('wax', 'Getty AAT'), ('slats', 'Getty AAT'), ('alak', 'Getty AAT'), ('oa', 'Getty AAT'), ('oak', 'Getty AAT'), ('bai', 'Getty AAT'), ('batu', 'Getty AAT'), ('bit', 'Getty AAT'), ('car', 'Getty AAT'), ('dai', 'Getty AAT'), ('fam', 'Getty AAT'), ('kato', 'Getty AAT'), ('ket', 'Getty AAT'), ('klao', 'Getty AAT'), ('labo', 'Getty AAT'), ('labu', 'Getty AAT'), ('lahu', 'Getty AAT'), ('lak', 'Getty AAT'), ('lao', 'Getty AAT'), ('latu', 'Getty AAT'), ('lawa', 'Getty AAT'), ('laz', 'Getty AAT'), ('low', 'Getty AAT'), (\"lua'\", 'Getty AAT'), ('mao', 'Getty AAT'), ('pai', 'Getty AAT'), ('tati', 'Getty AAT'), ('vlax', 'Getty AAT'), ('wa', 'Getty AAT'), ('zan', 'Getty AAT'), ('atl', 'Getty AAT'), ('Art', 'TGM'), ('Bats', 'TGM'), ('Cats', 'TGM'), ('Clay', 'TGM'), ('Fat', 'TGM'), ('Fate', 'TGM'), ('Fax', 'TGM'), ('Flats', 'TGM'), ('Flax', 'TGM'), ('Gas', 'TGM'), ('Ghat', 'TGM'), ('Hate', 'TGM'), ('Hats', 'TGM'), ('Hay', 'TGM'), ('Heat', 'TGM'), ('Math', 'TGM'), ('Meat', 'TGM'), ('Oats', 'TGM'), ('Pay', 'TGM'), ('Peat', 'TGM'), ('Plats', 'TGM'), ('Rats', 'TGM'), ('Salt', 'TGM'), ('Vats', 'TGM'), ('War', 'TGM'), ('Wats', 'TGM'), ('lng', 'Landscape engravings ontology'), ('lat', 'Landscape engravings ontology')]\n",
            "[('дата_создания', 'Landscape engravings ontology')]\n",
            "[('диаметр', 'Landscape engravings ontology')]\n",
            "[('размер', 'Landscape engravings ontology')]\n",
            "[('xsd:gYear', 'Landscape engravings ontology')]\n",
            "[('State Hermitage museum', 'Landscape engravings ontology')]\n",
            "[('Государственный Эрмитаж', 'Landscape engravings ontology')]\n",
            "[('United Kingdom', 'Landscape engravings ontology')]\n",
            "[('Великобритания', 'Landscape engravings ontology')]\n",
            "[('Staffordshire', 'Landscape engravings ontology')]\n",
            "[('Стаффордшир', 'Landscape engravings ontology')]\n",
            "[('The British Embassy', 'Landscape engravings ontology')]\n",
            "[('Посольство Великобритании', 'Landscape engravings ontology')]\n",
            "[('British_museum', 'Landscape engravings ontology')]\n",
            "[('Британский музей', 'Landscape engravings ontology')]\n",
            "[('Helsinki', 'Landscape engravings ontology')]\n",
            "[('Хельсинки', 'Landscape engravings ontology')]\n",
            "[('A Prospect in Dove-Dale 3 Miles North of Ashbourn', 'Landscape engravings ontology')]\n",
            "[('Панорама в Давдейле в трёх милях к северу от Ашбурна', 'Landscape engravings ontology')]\n",
            "[('midland', 'Getty AAT'), ('Finland', 'Landscape engravings ontology')]\n",
            "[('Финляндия', 'Landscape engravings ontology')]\n",
            "[('François Vivares', 'Landscape engravings ontology')]\n",
            "[('Фрэнсис Виварес', 'Landscape engravings ontology')]\n",
            "[('herbs', 'Getty AAT'), ('terry', 'Getty AAT'), ('verbs', 'Getty AAT'), ('jerba', 'Getty AAT'), ('mercy', 'Getty AAT'), ('merey', 'Getty AAT'), ('Debs', 'TGM'), ('Debt', 'TGM'), ('Decay', 'TGM'), ('Herbs', 'TGM'), ('Derby', 'Landscape engravings ontology')]\n",
            "[('герб', 'Landscape engravings ontology'), ('Дерби', 'Landscape engravings ontology')]\n",
            "[('caissons', 'Getty AAT'), ('Poisons', 'TGM'), ('Soissons', 'Landscape engravings ontology')]\n",
            "[('Суассон', 'Landscape engravings ontology')]\n",
            "[('Derbyshire', 'Landscape engravings ontology')]\n",
            "[('Дербишир', 'Landscape engravings ontology')]\n",
            "[('блюдо', 'Landscape engravings ontology'), ('Блюдо', 'Landscape engravings ontology')]\n",
            "[('Josiah Wedgwood', 'Landscape engravings ontology')]\n",
            "[('Джозайя Веджвуд', 'Landscape engravings ontology')]\n",
            "[('Green frog service', 'Landscape engravings ontology')]\n",
            "[('Russian service', 'Landscape engravings ontology')]\n",
            "[('Сервиз с зеленой лягушкой', 'Landscape engravings ontology')]\n",
            "[('Thomas Smith', 'Landscape engravings ontology')]\n",
            "[('Томас Смит', 'Landscape engravings ontology')]\n",
            "[('Valley in Derbyshire', 'Landscape engravings ontology')]\n",
            "[('Долина в Дербишире', 'Landscape engravings ontology')]\n",
            "[('Tsarskoe Selo state museum and Heritage site', 'Landscape engravings ontology')]\n",
            "[('Царское Село', 'Landscape engravings ontology')]\n",
            "[('Saint-Petersburg', 'Landscape engravings ontology')]\n",
            "[('Санкт-Петербург', 'Landscape engravings ontology')]\n",
            "[('Saint-Jean-du-Bruel', 'Landscape engravings ontology')]\n",
            "[('Сен-Жан-дю-Брюэль', 'Landscape engravings ontology')]\n",
            "[('Thomas Bentley', 'Landscape engravings ontology')]\n",
            "[('Томас Бентли', 'Landscape engravings ontology')]\n",
            "[('congdon', 'Getty AAT'), ('pondo', 'Getty AAT'), ('dondo', 'Getty AAT'), ('tendon', 'Getty AAT'), ('bondo', 'Getty AAT'), ('Condos', 'TGM'), ('London', 'Landscape engravings ontology')]\n",
            "[('Лондон', 'Landscape engravings ontology')]\n",
            "[('Eight of the most extraordinary Prospects in the Mountainous parts of Derbyshire and Staffordshire commonly called the Peak and the Moorlands.', 'Landscape engravings ontology')]\n",
            "[('Antoine Benoist', 'Landscape engravings ontology')]\n",
            "[('Антуан Бенуа', 'Landscape engravings ontology')]\n",
            "[('orange', 'Getty AAT'), ('dance', 'Getty AAT'), ('francs', 'Getty AAT'), ('race', 'Getty AAT'), ('Dance', 'TGM'), ('Finance', 'TGM'), ('Grange', 'TGM'), ('France', 'Landscape engravings ontology')]\n",
            "[('Франция', 'Landscape engravings ontology')]\n",
            "[('russian', 'Getty AAT'), ('bussa', 'Getty AAT'), ('Russia', 'Landscape engravings ontology')]\n",
            "[('Россия', 'Landscape engravings ontology')]\n",
            "[('John Boydell', 'Landscape engravings ontology')]\n",
            "[('Джон Бойделл', 'Landscape engravings ontology')]\n",
            "[('Dovedale', 'Landscape engravings ontology')]\n",
            "[('Давдэйл', 'Landscape engravings ontology')]\n",
            "[('opened', 'Getty AAT'), ('odered', 'Landscape engravings ontology')]\n",
            "[('быть заказанным', 'Landscape engravings ontology')]\n",
            "[('derivative', 'Landscape engravings ontology')]\n",
            "[('служить производной', 'Landscape engravings ontology')]\n",
            "[('depict', 'Landscape engravings ontology'), ('depicted', 'Landscape engravings ontology')]\n",
            "[('изображать', 'Landscape engravings ontology')]\n",
            "[('a part of', 'Landscape engravings ontology')]\n",
            "[('быть частью', 'Landscape engravings ontology')]\n",
            "[('engravers', 'Getty AAT'), ('engrave', 'Landscape engravings ontology')]\n",
            "[('гравировать', 'Landscape engravings ontology')]\n",
            "[('data', 'Getty AAT'), ('health', 'Getty AAT'), ('seats', 'Getty AAT'), ('deans', 'Getty AAT'), ('earth', 'Getty AAT'), ('peat', 'Getty AAT'), ('beati', 'Getty AAT'), ('heat', 'Getty AAT'), ('deaf', 'Getty AAT'), ('meat', 'Getty AAT'), ('peach', 'Getty AAT'), ('deaths', 'Getty AAT'), ('depth', 'Getty AAT'), ('tenth', 'Getty AAT'), ('lath', 'Getty AAT'), ('dead', 'Getty AAT'), ('dents', 'Getty AAT'), ('wealth', 'Getty AAT'), ('teeth', 'Getty AAT'), ('heaths', 'Getty AAT'), ('Beats', 'TGM'), ('Death', 'TGM'), ('Health', 'TGM'), ('Heat', 'TGM'), ('Math', 'TGM'), ('Meat', 'TGM'), ('Peat', 'TGM'), ('Teeth', 'TGM'), ('Wealth', 'TGM'), ('Wrath', 'TGM'), ('death', 'Landscape engravings ontology')]\n",
            "[('умереть', 'Landscape engravings ontology')]\n",
            "[('borders', 'Getty AAT'), ('powder', 'Getty AAT'), ('solder', 'Getty AAT'), ('corner', 'Getty AAT'), ('ocher', 'Getty AAT'), ('alder', 'Getty AAT'), ('order', 'Getty AAT'), ('orders', 'Getty AAT'), ('odea', 'Getty AAT'), ('ordos', 'Getty AAT'), ('odes', 'Getty AAT'), ('former', 'Getty AAT'), ('drier', 'Getty AAT'), ('outer', 'Getty AAT'), ('other', 'Getty AAT'), ('ore', 'Getty AAT'), ('Borders', 'RBMS'), ('Borders', 'TGM'), ('Cider', 'TGM'), ('other', 'Landscape engravings ontology'), ('order', 'Landscape engravings ontology')]\n",
            "[('заказывать', 'Landscape engravings ontology')]\n",
            "[('publishers', 'Getty AAT'), ('published', 'Landscape engravings ontology'), ('publish', 'Landscape engravings ontology')]\n",
            "[('быть изданным', 'Landscape engravings ontology'), ('быть созданным', 'Landscape engravings ontology')]\n",
            "[('rubbish', 'Getty AAT'), ('polish', 'Getty AAT'), ('public', 'Getty AAT'), ('Rubbish', 'TGM'), ('published', 'Landscape engravings ontology'), ('publish', 'Landscape engravings ontology')]\n",
            "[('издавать', 'Landscape engravings ontology'), ('создавать', 'Landscape engravings ontology')]\n",
            "[('crests', 'Getty AAT'), ('grease', 'Getty AAT'), ('cream', 'Getty AAT'), ('ornate', 'Getty AAT'), ('cree', 'Getty AAT'), ('croats', 'Getty AAT'), ('creole', 'Getty AAT'), ('crepe', 'Getty AAT'), ('cleats', 'Getty AAT'), ('crates', 'Getty AAT'), ('creases', 'Getty AAT'), ('create', 'Landscape engravings ontology'), ('created', 'Landscape engravings ontology')]\n",
            "[('издавать', 'Landscape engravings ontology'), ('создавать', 'Landscape engravings ontology')]\n",
            "[('depict', 'Landscape engravings ontology'), ('depicted', 'Landscape engravings ontology')]\n",
            "[('быть изображенным', 'Landscape engravings ontology')]\n",
            "[('black', 'Getty AAT'), ('play', 'Getty AAT'), ('glare', 'Getty AAT'), ('placas', 'Getty AAT'), ('flake', 'Getty AAT'), ('alae', 'Getty AAT'), ('flac', 'Getty AAT'), ('space', 'Getty AAT'), ('place', 'Getty AAT'), ('plates', 'Getty AAT'), ('plats', 'Getty AAT'), ('plans', 'Getty AAT'), ('plano', 'Getty AAT'), ('glaze', 'Getty AAT'), ('lake', 'Getty AAT'), ('peach', 'Getty AAT'), ('palaces', 'Getty AAT'), ('lace', 'Getty AAT'), ('plays', 'Getty AAT'), ('plate', 'Getty AAT'), ('pame', 'Getty AAT'), ('planes', 'Getty AAT'), ('pare', 'Getty AAT'), ('placets', 'Getty AAT'), ('slate', 'Getty AAT'), ('vlach', 'Getty AAT'), ('pale', 'Getty AAT'), ('lac', 'Getty AAT'), ('plaid', 'Getty AAT'), ('plan', 'Getty AAT'), ('pence', 'Getty AAT'), ('peace', 'Getty AAT'), ('race', 'Getty AAT'), ('Lace', 'TGM'), ('Peace', 'TGM'), ('place', 'Landscape engravings ontology')]\n",
            "[('находиться', 'Landscape engravings ontology')]\n",
            "[('dram', 'Getty AAT'), ('drama', 'Getty AAT'), ('dna', 'Getty AAT'), ('dan', 'Getty AAT'), ('day', 'Getty AAT'), ('arak', 'Getty AAT'), ('drays', 'Getty AAT'), ('arae', 'Getty AAT'), ('agaw', 'Getty AAT'), ('ram', 'Getty AAT'), ('dawn', 'Getty AAT'), ('gray', 'Getty AAT'), ('deaf', 'Getty AAT'), ('dyan', 'Getty AAT'), ('dew', 'Getty AAT'), ('drags', 'Getty AAT'), ('dawu', 'Getty AAT'), ('rag', 'Getty AAT'), ('trap', 'Getty AAT'), ('crow', 'Getty AAT'), ('iraqw', 'Getty AAT'), ('era', 'Getty AAT'), ('dead', 'Getty AAT'), ('law', 'Getty AAT'), ('raw', 'Getty AAT'), ('straw', 'Getty AAT'), ('arawe', 'Getty AAT'), ('dai', 'Getty AAT'), ('ura', 'Getty AAT'), ('Bras', 'TGM'), ('Crap', 'TGM'), ('Straw', 'TGM'), ('draw', 'Landscape engravings ontology')]\n",
            "[('рисовать', 'Landscape engravings ontology')]\n",
            "[('be born', 'Landscape engravings ontology')]\n",
            "[('родиться', 'Landscape engravings ontology')]\n",
            "[('crusted', 'Getty AAT'), ('crates', 'Getty AAT'), ('creases', 'Getty AAT'), ('create', 'Landscape engravings ontology'), ('created', 'Landscape engravings ontology')]\n",
            "[('быть изданным', 'Landscape engravings ontology'), ('быть созданным', 'Landscape engravings ontology')]\n",
            "[('phototypes', 'Getty AAT'), ('phototype', 'Getty AAT'), ('prototypes', 'Getty AAT'), ('prototype', 'Landscape engravings ontology')]\n",
            "[('служить прототипом', 'Landscape engravings ontology')]\n",
            "[('has part', 'Landscape engravings ontology')]\n",
            "[('иметь часть', 'Landscape engravings ontology')]\n",
            "[('foundries', 'Getty AAT'), ('chantries', 'Getty AAT'), ('countries', 'Getty AAT'), ('counties', 'Getty AAT'), ('Foundries', 'TGM'), ('countries', 'Landscape engravings ontology')]\n",
            "[('страны', 'Landscape engravings ontology')]\n",
            "[('geografical objects', 'Landscape engravings ontology')]\n",
            "[('географические объекты', 'Landscape engravings ontology')]\n"
          ]
        }
      ],
      "source": [
        "vc.matches(vocabs, le, 3) #lists all keywords from a certain vocabulary (here: acdhch_web) and their matches"
      ]
    },
    {
      "cell_type": "markdown",
      "metadata": {
        "id": "pmz6M2zHVMQk"
      },
      "source": [
        "As seen above, all functions for fuzzy matching take an additional argument at the end, namely the levenshtein distance threshold: Only keywords whose distance is smaller than the distance given as input, will be considered a match.\n",
        "\n",
        "(Note: To avoid long running times, a distance < 3 is recommended as well as minimizing the total length of vocabularies chosen.)"
      ]
    },
    {
      "cell_type": "markdown",
      "metadata": {
        "id": "KKNTbhbzVf6A"
      },
      "source": [
        "# Time for Exploration"
      ]
    },
    {
      "cell_type": "code",
      "execution_count": null,
      "metadata": {
        "colab": {
          "background_save": true
        },
        "id": "gP-Pua-mVe9X"
      },
      "outputs": [],
      "source": [
        "# Add your code here"
      ]
    }
  ],
  "metadata": {
    "colab": {
      "provenance": []
    },
    "kernelspec": {
      "display_name": "Python 3",
      "name": "python3"
    },
    "language_info": {
      "codemirror_mode": {
        "name": "ipython",
        "version": 3
      },
      "file_extension": ".py",
      "mimetype": "text/x-python",
      "name": "python",
      "nbconvert_exporter": "python",
      "pygments_lexer": "ipython3",
      "version": "3.9.10"
    }
  },
  "nbformat": 4,
  "nbformat_minor": 0
}